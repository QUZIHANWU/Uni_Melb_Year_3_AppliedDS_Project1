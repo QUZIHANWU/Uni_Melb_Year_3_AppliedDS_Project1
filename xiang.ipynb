{
 "cells": [
  {
   "cell_type": "code",
   "execution_count": 57,
   "metadata": {},
   "outputs": [
    {
     "name": "stderr",
     "output_type": "stream",
     "text": [
      "/anaconda3/lib/python3.6/site-packages/IPython/core/interactiveshell.py:2903: DtypeWarning: Columns (3) have mixed types.Specify dtype option on import or set low_memory=False.\n",
      "  if self.run_code(code, result):\n"
     ]
    }
   ],
   "source": [
    "from data_chuli import data_yuchuli\n",
    "X = data_yuchuli('green_tripdata_2020-01.csv', 1, 31)"
   ]
  },
  {
   "cell_type": "code",
   "execution_count": 58,
   "metadata": {},
   "outputs": [],
   "source": [
    "import seaborn as sns\n"
   ]
  },
  {
   "cell_type": "code",
   "execution_count": 59,
   "metadata": {},
   "outputs": [
    {
     "data": {
      "text/html": [
       "<div>\n",
       "<style scoped>\n",
       "    .dataframe tbody tr th:only-of-type {\n",
       "        vertical-align: middle;\n",
       "    }\n",
       "\n",
       "    .dataframe tbody tr th {\n",
       "        vertical-align: top;\n",
       "    }\n",
       "\n",
       "    .dataframe thead th {\n",
       "        text-align: right;\n",
       "    }\n",
       "</style>\n",
       "<table border=\"1\" class=\"dataframe\">\n",
       "  <thead>\n",
       "    <tr style=\"text-align: right;\">\n",
       "      <th></th>\n",
       "      <th>time</th>\n",
       "      <th>total_amount</th>\n",
       "      <th>trip_distance</th>\n",
       "      <th>fare_amount</th>\n",
       "      <th>extra</th>\n",
       "      <th>temp</th>\n",
       "    </tr>\n",
       "  </thead>\n",
       "  <tbody>\n",
       "    <tr>\n",
       "      <th>0</th>\n",
       "      <td>2020/1/1 0:39</td>\n",
       "      <td>28.83</td>\n",
       "      <td>5.57</td>\n",
       "      <td>25.78</td>\n",
       "      <td>2.75</td>\n",
       "      <td>31.5</td>\n",
       "    </tr>\n",
       "    <tr>\n",
       "      <th>1</th>\n",
       "      <td>2020/1/1 0:39</td>\n",
       "      <td>27.12</td>\n",
       "      <td>5.57</td>\n",
       "      <td>26.82</td>\n",
       "      <td>0</td>\n",
       "      <td>31.5</td>\n",
       "    </tr>\n",
       "    <tr>\n",
       "      <th>2</th>\n",
       "      <td>2020/1/1 0:45</td>\n",
       "      <td>27.91</td>\n",
       "      <td>7</td>\n",
       "      <td>24.86</td>\n",
       "      <td>2.75</td>\n",
       "      <td>31.5</td>\n",
       "    </tr>\n",
       "    <tr>\n",
       "      <th>3</th>\n",
       "      <td>2020/1/1 0:45</td>\n",
       "      <td>17.8</td>\n",
       "      <td>7</td>\n",
       "      <td>17.5</td>\n",
       "      <td>0</td>\n",
       "      <td>31.5</td>\n",
       "    </tr>\n",
       "    <tr>\n",
       "      <th>4</th>\n",
       "      <td>2020/1/1 0:32</td>\n",
       "      <td>52.4</td>\n",
       "      <td>20.27</td>\n",
       "      <td>49.35</td>\n",
       "      <td>2.75</td>\n",
       "      <td>31.5</td>\n",
       "    </tr>\n",
       "    <tr>\n",
       "      <th>...</th>\n",
       "      <td>...</td>\n",
       "      <td>...</td>\n",
       "      <td>...</td>\n",
       "      <td>...</td>\n",
       "      <td>...</td>\n",
       "      <td>...</td>\n",
       "    </tr>\n",
       "    <tr>\n",
       "      <th>80174</th>\n",
       "      <td>2020/1/31 23:29</td>\n",
       "      <td>26.26</td>\n",
       "      <td>4.58</td>\n",
       "      <td>23.21</td>\n",
       "      <td>2.75</td>\n",
       "      <td>32</td>\n",
       "    </tr>\n",
       "    <tr>\n",
       "      <th>80175</th>\n",
       "      <td>2020/1/31 23:57</td>\n",
       "      <td>30.32</td>\n",
       "      <td>6.55</td>\n",
       "      <td>27.27</td>\n",
       "      <td>2.75</td>\n",
       "      <td>32</td>\n",
       "    </tr>\n",
       "    <tr>\n",
       "      <th>80176</th>\n",
       "      <td>2020/1/31 23:57</td>\n",
       "      <td>29</td>\n",
       "      <td>3.34</td>\n",
       "      <td>25.95</td>\n",
       "      <td>2.75</td>\n",
       "      <td>32</td>\n",
       "    </tr>\n",
       "    <tr>\n",
       "      <th>80177</th>\n",
       "      <td>2020/1/31 23:27</td>\n",
       "      <td>33.44</td>\n",
       "      <td>8.92</td>\n",
       "      <td>30.39</td>\n",
       "      <td>2.75</td>\n",
       "      <td>32</td>\n",
       "    </tr>\n",
       "    <tr>\n",
       "      <th>80178</th>\n",
       "      <td>2020/1/31 23:36</td>\n",
       "      <td>45.25</td>\n",
       "      <td>13.51</td>\n",
       "      <td>42.2</td>\n",
       "      <td>2.75</td>\n",
       "      <td>32</td>\n",
       "    </tr>\n",
       "  </tbody>\n",
       "</table>\n",
       "<p>80179 rows × 6 columns</p>\n",
       "</div>"
      ],
      "text/plain": [
       "                  time total_amount trip_distance fare_amount extra  temp\n",
       "0        2020/1/1 0:39        28.83          5.57       25.78  2.75  31.5\n",
       "1        2020/1/1 0:39        27.12          5.57       26.82     0  31.5\n",
       "2        2020/1/1 0:45        27.91             7       24.86  2.75  31.5\n",
       "3        2020/1/1 0:45         17.8             7        17.5     0  31.5\n",
       "4        2020/1/1 0:32         52.4         20.27       49.35  2.75  31.5\n",
       "...                ...          ...           ...         ...   ...   ...\n",
       "80174  2020/1/31 23:29        26.26          4.58       23.21  2.75    32\n",
       "80175  2020/1/31 23:57        30.32          6.55       27.27  2.75    32\n",
       "80176  2020/1/31 23:57           29          3.34       25.95  2.75    32\n",
       "80177  2020/1/31 23:27        33.44          8.92       30.39  2.75    32\n",
       "80178  2020/1/31 23:36        45.25         13.51        42.2  2.75    32\n",
       "\n",
       "[80179 rows x 6 columns]"
      ]
     },
     "execution_count": 59,
     "metadata": {},
     "output_type": "execute_result"
    }
   ],
   "source": [
    "X.dropna()"
   ]
  },
  {
   "cell_type": "code",
   "execution_count": 67,
   "metadata": {},
   "outputs": [
    {
     "data": {
      "image/png": "[encoded data removed]",
      "text/plain": [
       "<Figure size 720x432 with 1 Axes>"
      ]
     },
     "metadata": {},
     "output_type": "display_data"
    }
   ],
   "source": [
    "# df = pd.DataFrame(data, columns=['a','b','c','d','e','f'])\n",
    "import pandas as pd\n",
    "import matplotlib.pyplot as plt\n",
    "import numpy as np\n",
    "\n",
    "plt.figure(figsize=(10,6))\n",
    "ax1 = sns.boxplot(x=\"variable\", y=\"value\", data=pd.melt(X.iloc[:, 1:].astype(np.float)))\n",
    "# sns.boxplot(X.iloc[:,1:2].astype(np.float))\n",
    "ax1.xaxis.label.set_size(16)\n",
    "plt.xticks(size=16)\n",
    "\n",
    "ax1.yaxis.label.set_size(16)\n",
    "plt.yticks(size=16)\n",
    "plt.savefig('xiangxing.png')\n",
    "plt.show()"
   ]
  },
  {
   "cell_type": "code",
   "execution_count": 39,
   "metadata": {},
   "outputs": [],
   "source": [
    "Q1 = X.quantile(0.3)\n",
    "Q3 = X.quantile(0.7)\n",
    "IQR = Q3 - Q1\n",
    "X = X[~((X < (Q1 - 1.5 * IQR)) |(X > (Q3 + 1.5 * IQR))).any(axis=1)]"
   ]
  },
  {
   "cell_type": "code",
   "execution_count": 43,
   "metadata": {},
   "outputs": [
    {
     "data": {
      "image/png": "[encoded data removed]",
      "text/plain": [
       "<Figure size 864x432 with 1 Axes>"
      ]
     },
     "metadata": {},
     "output_type": "display_data"
    }
   ],
   "source": [
    "plt.figure(figsize=(12,6))\n",
    "sns.boxplot(x=\"variable\", y=\"value\", data=pd.melt(X.iloc[:, 1:].astype(np.float)))\n",
    "plt.show()"
   ]
  },
  {
   "cell_type": "code",
   "execution_count": 50,
   "metadata": {},
   "outputs": [
    {
     "name": "stderr",
     "output_type": "stream",
     "text": [
      "/anaconda3/lib/python3.6/site-packages/IPython/core/interactiveshell.py:2963: SettingWithCopyWarning: \n",
      "A value is trying to be set on a copy of a slice from a DataFrame\n",
      "\n",
      "See the caveats in the documentation: https://pandas.pydata.org/pandas-docs/stable/user_guide/indexing.html#returning-a-view-versus-a-copy\n",
      "  exec(code_obj, self.user_global_ns, self.user_ns)\n"
     ]
    }
   ],
   "source": [
    "df = X.iloc[:,1:]\n",
    "cutoff = 0.7\n",
    "for col in df.columns: \n",
    "    # Identify index locations above cutoff\n",
    "    outliers = df[col][ df[col]>cutoff ]\n",
    "\n",
    "    # Browse through outliers and average according to index location\n",
    "    for idx in outliers.index:\n",
    "        # Get index location \n",
    "        loc = df.index.get_loc(idx)\n",
    "\n",
    "        # If not one of last two values in dataframe\n",
    "        if loc<df.shape[0]-2:\n",
    "            df[col][loc] = np.mean( df[col][loc+1:loc+3] )\n",
    "        else: \n",
    "            df[col][loc] = np.mean( df[col][loc-3:loc-1] )"
   ]
  },
  {
   "cell_type": "code",
   "execution_count": 51,
   "metadata": {},
   "outputs": [
    {
     "data": {
      "image/png": "[encoded data removed]",
      "text/plain": [
       "<Figure size 864x432 with 1 Axes>"
      ]
     },
     "metadata": {},
     "output_type": "display_data"
    }
   ],
   "source": [
    "plt.figure(figsize=(12,6))\n",
    "sns.boxplot(x=\"variable\", y=\"value\", data=pd.melt(df.iloc[:, 1:].astype(np.float)))\n",
    "plt.show()"
   ]
  },
  {
   "cell_type": "code",
   "execution_count": null,
   "metadata": {},
   "outputs": [],
   "source": []
  }
 ],
 "metadata": {
  "kernelspec": {
   "display_name": "Python 3",
   "language": "python",
   "name": "python3"
  },
  "language_info": {
   "codemirror_mode": {
    "name": "ipython",
    "version": 3
   },
   "file_extension": ".py",
   "mimetype": "text/x-python",
   "name": "python",
   "nbconvert_exporter": "python",
   "pygments_lexer": "ipython3",
   "version": "3.6.5"
  },
  "toc": {
   "base_numbering": 1,
   "nav_menu": {},
   "number_sections": true,
   "sideBar": true,
   "skip_h1_title": false,
   "title_cell": "Table of Contents",
   "title_sidebar": "Contents",
   "toc_cell": false,
   "toc_position": {},
   "toc_section_display": true,
   "toc_window_display": false
  }
 },
 "nbformat": 4,
 "nbformat_minor": 5
}
